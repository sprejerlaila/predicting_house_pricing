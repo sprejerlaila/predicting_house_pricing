{
 "cells": [
  {
   "cell_type": "code",
   "execution_count": 1,
   "metadata": {},
   "outputs": [],
   "source": [
    "import ast\n",
    "import pandas as pd\n",
    "import numpy as np\n",
    "import time\n",
    "import requests\n",
    "import pickle\n",
    "from lxml import html\n",
    "import unicodecsv as csv\n",
    "import argparse\n",
    "from __future__ import print_function, division\n",
    "import ast\n",
    "from bs4 import BeautifulSoup\n",
    "from lxml import html\n",
    "import requests\n",
    "import unicodecsv as csv\n",
    "import argparse\n",
    "import pandas as pd\n",
    "import numpy as np\n",
    "import matplotlib.pyplot as plt\n",
    "import seaborn as sns\n",
    "sns.set()\n",
    "#import ml_insights as mli\n",
    "\n",
    "# To Plot matplotlib figures inline on the notebook\n",
    "%matplotlib inline\n",
    "\n",
    "from sklearn.model_selection import train_test_split\n",
    "#from sklearn.cross_validation import train_test_split\n",
    "\n",
    "from sklearn.linear_model import LinearRegression, Lasso, LassoCV\n",
    "\n",
    "pd.set_option('display.float_format', lambda x: '%.2f' % x)"
   ]
  },
  {
   "cell_type": "code",
   "execution_count": 2,
   "metadata": {},
   "outputs": [],
   "source": [
    "def get_soup(p):\n",
    "    url = \"https://www.zillow.com/denver-co/schools/#/denver-co/schools/bb=-105.139161%2C39.587434%2C-104.571305%2C39.941067&regionId=&zoom=10&p={}\".format(p)\n",
    "    headers= {\n",
    "                        'accept':'text/html,application/xhtml+xml,application/xml;q=0.9,image/webp,*/*;q=0.8',\n",
    "                        'accept-encoding':'gzip, deflate, sdch, br',\n",
    "                        'accept-language':'en-GB,en;q=0.8,en-US;q=0.6,ml;q=0.4',\n",
    "                        'cache-control':'max-age=0',\n",
    "                        'upgrade-insecure-requests':'1',\n",
    "                        'user-agent':'Mozilla/5.0 (X11; Linux x86_64) AppleWebKit/537.36 (KHTML, like Gecko) Chrome/56.0.2924.87 Safari/537.36'\n",
    "            }\n",
    "    response = requests.get(url,headers=headers)\n",
    "    page = response.text\n",
    "    return BeautifulSoup(page, \"lxml\")\n",
    "\n",
    "soup = get_soup(1)"
   ]
  },
  {
   "cell_type": "code",
   "execution_count": 3,
   "metadata": {},
   "outputs": [],
   "source": [
    "District=[]\n",
    "Rank=[]\n",
    "for element in soup.find_all(attrs={'class':'districts-near-list-item'}):\n",
    "    District.append(element.find_next().find_next().text)\n",
    "    Rank.append(element.find_next().text)"
   ]
  },
  {
   "cell_type": "code",
   "execution_count": 4,
   "metadata": {},
   "outputs": [],
   "source": [
    "district_rank={\n",
    "    'District': District,\n",
    "    'Rank': Rank\n",
    "}\n",
    "district_rank=pd.DataFrame(district_rank)"
   ]
  },
  {
   "cell_type": "code",
   "execution_count": 5,
   "metadata": {},
   "outputs": [],
   "source": [
    "district_rank['Rank']=district_rank['Rank'].replace(r'[^0-9]+', \"\", regex=True)"
   ]
  },
  {
   "cell_type": "code",
   "execution_count": 6,
   "metadata": {},
   "outputs": [
    {
     "data": {
      "text/html": [
       "<div>\n",
       "<style scoped>\n",
       "    .dataframe tbody tr th:only-of-type {\n",
       "        vertical-align: middle;\n",
       "    }\n",
       "\n",
       "    .dataframe tbody tr th {\n",
       "        vertical-align: top;\n",
       "    }\n",
       "\n",
       "    .dataframe thead th {\n",
       "        text-align: right;\n",
       "    }\n",
       "</style>\n",
       "<table border=\"1\" class=\"dataframe\">\n",
       "  <thead>\n",
       "    <tr style=\"text-align: right;\">\n",
       "      <th></th>\n",
       "      <th>District</th>\n",
       "      <th>Rank</th>\n",
       "    </tr>\n",
       "  </thead>\n",
       "  <tbody>\n",
       "    <tr>\n",
       "      <th>0</th>\n",
       "      <td>Denver County 1 School District</td>\n",
       "      <td>5</td>\n",
       "    </tr>\n",
       "    <tr>\n",
       "      <th>1</th>\n",
       "      <td>Adams County 14 School District</td>\n",
       "      <td>3</td>\n",
       "    </tr>\n",
       "    <tr>\n",
       "      <th>2</th>\n",
       "      <td>Denver 1 School District</td>\n",
       "      <td>9</td>\n",
       "    </tr>\n",
       "    <tr>\n",
       "      <th>3</th>\n",
       "      <td>Charter School Institute School District</td>\n",
       "      <td>6</td>\n",
       "    </tr>\n",
       "    <tr>\n",
       "      <th>4</th>\n",
       "      <td>Mapleton Public Schools  Adams County School D...</td>\n",
       "      <td>4</td>\n",
       "    </tr>\n",
       "    <tr>\n",
       "      <th>5</th>\n",
       "      <td>Adams-Arapahoe 28j School District</td>\n",
       "      <td>4</td>\n",
       "    </tr>\n",
       "    <tr>\n",
       "      <th>6</th>\n",
       "      <td>Englewood 1 School District</td>\n",
       "      <td>3</td>\n",
       "    </tr>\n",
       "    <tr>\n",
       "      <th>7</th>\n",
       "      <td>Westminster 50 School District</td>\n",
       "      <td>4</td>\n",
       "    </tr>\n",
       "    <tr>\n",
       "      <th>8</th>\n",
       "      <td>Cherry Creek 5 School District</td>\n",
       "      <td>7</td>\n",
       "    </tr>\n",
       "    <tr>\n",
       "      <th>9</th>\n",
       "      <td>Sheridan 2 School District</td>\n",
       "      <td>6</td>\n",
       "    </tr>\n",
       "  </tbody>\n",
       "</table>\n",
       "</div>"
      ],
      "text/plain": [
       "                                            District Rank\n",
       "0                    Denver County 1 School District    5\n",
       "1                    Adams County 14 School District    3\n",
       "2                           Denver 1 School District    9\n",
       "3           Charter School Institute School District    6\n",
       "4  Mapleton Public Schools  Adams County School D...    4\n",
       "5                 Adams-Arapahoe 28j School District    4\n",
       "6                        Englewood 1 School District    3\n",
       "7                     Westminster 50 School District    4\n",
       "8                     Cherry Creek 5 School District    7\n",
       "9                         Sheridan 2 School District    6"
      ]
     },
     "execution_count": 6,
     "metadata": {},
     "output_type": "execute_result"
    }
   ],
   "source": [
    "district_rank"
   ]
  },
  {
   "cell_type": "code",
   "execution_count": 7,
   "metadata": {},
   "outputs": [],
   "source": [
    "import pickle\n",
    "with open('dist_rank.pkl', 'wb') as picklefile:\n",
    "    pickle.dump(district_rank, picklefile)"
   ]
  }
 ],
 "metadata": {
  "kernelspec": {
   "display_name": "Python 3",
   "language": "python",
   "name": "python3"
  },
  "language_info": {
   "codemirror_mode": {
    "name": "ipython",
    "version": 3
   },
   "file_extension": ".py",
   "mimetype": "text/x-python",
   "name": "python",
   "nbconvert_exporter": "python",
   "pygments_lexer": "ipython3",
   "version": "3.5.6"
  }
 },
 "nbformat": 4,
 "nbformat_minor": 2
}
